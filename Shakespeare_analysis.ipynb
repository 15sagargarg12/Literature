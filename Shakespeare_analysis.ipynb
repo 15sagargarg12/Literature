{
 "cells": [
  {
   "cell_type": "code",
   "execution_count": 1,
   "metadata": {},
   "outputs": [],
   "source": [
    "import pandas as pd\n",
    "import string\n",
    "import nltk\n",
    "import os"
   ]
  },
  {
   "cell_type": "code",
   "execution_count": 2,
   "metadata": {},
   "outputs": [
    {
     "name": "stderr",
     "output_type": "stream",
     "text": [
      "[nltk_data] Downloading package stopwords to\n",
      "[nltk_data]     C:\\Users\\Om\\AppData\\Roaming\\nltk_data...\n",
      "[nltk_data]   Package stopwords is already up-to-date!\n",
      "[nltk_data] Downloading package wordnet to\n",
      "[nltk_data]     C:\\Users\\Om\\AppData\\Roaming\\nltk_data...\n",
      "[nltk_data]   Package wordnet is already up-to-date!\n",
      "[nltk_data] Downloading package punkt to\n",
      "[nltk_data]     C:\\Users\\Om\\AppData\\Roaming\\nltk_data...\n",
      "[nltk_data]   Package punkt is already up-to-date!\n"
     ]
    },
    {
     "data": {
      "text/plain": [
       "True"
      ]
     },
     "execution_count": 2,
     "metadata": {},
     "output_type": "execute_result"
    }
   ],
   "source": [
    "nltk.download('stopwords')\n",
    "nltk.download('wordnet')\n",
    "nltk.download('punkt')"
   ]
  },
  {
   "cell_type": "code",
   "execution_count": 3,
   "metadata": {},
   "outputs": [],
   "source": [
    "from nltk.corpus import stopwords\n",
    "from nltk.tokenize import word_tokenize\n",
    "from nltk.stem import WordNetLemmatizer\n",
    "from nltk import sent_tokenize\n",
    "lemmatizer = WordNetLemmatizer()"
   ]
  },
  {
   "cell_type": "code",
   "execution_count": 4,
   "metadata": {},
   "outputs": [],
   "source": [
    "import numpy as np"
   ]
  },
  {
   "cell_type": "code",
   "execution_count": 5,
   "metadata": {},
   "outputs": [],
   "source": [
    "Shakespeare_file_name = os.listdir('Shakespeare')"
   ]
  },
  {
   "cell_type": "markdown",
   "metadata": {},
   "source": [
    "Consolidate Shakespeare documents in a list"
   ]
  },
  {
   "cell_type": "code",
   "execution_count": 6,
   "metadata": {},
   "outputs": [],
   "source": [
    "documents_Shakespeare =[]\n",
    "  \n",
    "for i in Shakespeare_file_name:\n",
    "    f = open('./Shakespeare/'+i,'r')\n",
    "    documents_Shakespeare.append(f.read())"
   ]
  },
  {
   "cell_type": "code",
   "execution_count": 7,
   "metadata": {},
   "outputs": [],
   "source": [
    "def preprocess(text):\n",
    "    # Steps:\n",
    "    # 1. lowercase\n",
    "    # 2. Lammetize. \n",
    "    # 3. Remove stop words.\n",
    "    # 4. Remove punctuations.\n",
    "    # 5. Remove character with the length size of 1.\n",
    "\n",
    "    lowered = str.lower(text)\n",
    "\n",
    "    stop_words = set(stopwords.words('english'))\n",
    "    word_tokens = word_tokenize(lowered)\n",
    "\n",
    "    words = []\n",
    "    for w in word_tokens:\n",
    "        if w not in stop_words:\n",
    "            if w not in string.punctuation:\n",
    "                if len(w) > 1:\n",
    "                    lemmatized = lemmatizer.lemmatize(w)\n",
    "                    words.append(lemmatized)\n",
    "\n",
    "    return words"
   ]
  },
  {
   "cell_type": "code",
   "execution_count": 8,
   "metadata": {},
   "outputs": [
    {
     "name": "stdout",
     "output_type": "stream",
     "text": [
      "making word tokens at index: 0\n",
      "making word tokens at index: 1\n",
      "making word tokens at index: 2\n",
      "making word tokens at index: 3\n",
      "making word tokens at index: 4\n"
     ]
    }
   ],
   "source": [
    "# Tokenize each Shakespeare document\n",
    "all_tokens_Shakespeare = []\n",
    "for i, document in enumerate(documents_Shakespeare):\n",
    "    tokens = preprocess(document)\n",
    "    all_tokens_Shakespeare.append(tokens)\n",
    "\n",
    "    print(\"making word tokens at index:\", i)"
   ]
  },
  {
   "cell_type": "code",
   "execution_count": 9,
   "metadata": {},
   "outputs": [],
   "source": [
    "def calculate_score(word_tokens1, word_tokens2):\n",
    "    # Combine both tokens to find union.\n",
    "    both_tokens = word_tokens1 + word_tokens2\n",
    "    union = set(both_tokens)\n",
    "\n",
    "    # Calculate intersection.\n",
    "    intersection = set()\n",
    "    for w in word_tokens1:\n",
    "        if w in word_tokens2:\n",
    "            intersection.add(w)\n",
    "\n",
    "    score = len(intersection)/len(union)\n",
    "    return score"
   ]
  },
  {
   "cell_type": "markdown",
   "metadata": {},
   "source": [
    "Finding similar documents on basis of intersection score"
   ]
  },
  {
   "cell_type": "code",
   "execution_count": 10,
   "metadata": {},
   "outputs": [
    {
     "name": "stdout",
     "output_type": "stream",
     "text": [
      "Most similar document to Coriolanus.txt based on intersection score is Othello.txt with score value : 0.207\n",
      "\n",
      "Most similar document to HenryV.txt based on intersection score is Othello.txt with score value : 0.1981\n",
      "\n",
      "Most similar document to King_Lear.txt based on intersection score is Othello.txt with score value : 0.2123\n",
      "\n",
      "Most similar document to Othello.txt based on intersection score is King_Lear.txt with score value : 0.2123\n",
      "\n",
      "Most similar document to Tempest.txt based on intersection score is Othello.txt with score value : 0.2081\n",
      "\n"
     ]
    }
   ],
   "source": [
    "for i in range(5):\n",
    "    all_scores = []\n",
    "    for j in range(5):\n",
    "        score = calculate_score(all_tokens_Shakespeare[i], all_tokens_Shakespeare[j])\n",
    "        all_scores.append(score)\n",
    "            \n",
    "    highest_score = 0\n",
    "    highest_score_index = 0\n",
    "    for index_score, score in enumerate(all_scores):\n",
    "        if score!=1: # score with 1 is not checked as they are same documents \n",
    "            if highest_score < score:\n",
    "                highest_score = score\n",
    "                highest_score_index = index_score\n",
    "\n",
    "    most_similar_document = Shakespeare_file_name[highest_score_index]\n",
    "\n",
    "    print(\"Most similar document to \"+Shakespeare_file_name[i]+\" based on intersection score is \"+most_similar_document+\" with score value :\", round(highest_score,4))\n",
    "    print()"
   ]
  },
  {
   "cell_type": "markdown",
   "metadata": {},
   "source": [
    "tfidf cosine similarity"
   ]
  },
  {
   "cell_type": "code",
   "execution_count": 11,
   "metadata": {},
   "outputs": [],
   "source": [
    "from sklearn.feature_extraction.text import TfidfVectorizer\n",
    "from sklearn.metrics.pairwise import cosine_similarity"
   ]
  },
  {
   "cell_type": "code",
   "execution_count": 12,
   "metadata": {},
   "outputs": [],
   "source": [
    "def tfidf_similarity(to_compare_doc, all_docs,j):\n",
    "    vectorizer = TfidfVectorizer()\n",
    "\n",
    "    #Combine the base document to all documents\n",
    "    all_docs.insert(0, to_compare_doc)\n",
    "\n",
    "    embeddings = vectorizer.fit_transform(all_docs)\n",
    "\n",
    "\n",
    "    cosine_similarities = cosine_similarity(embeddings[0:1], embeddings[1:]).flatten()\n",
    "\n",
    "    highest_score = 0\n",
    "    highest_score_index = 0\n",
    "    for i, score in enumerate(cosine_similarities):\n",
    "        if highest_score < score:\n",
    "            highest_score = score\n",
    "            highest_score_index = i\n",
    "\n",
    "\n",
    "    most_similar_document = documents_Shakespeare.index(all_docs[highest_score_index+1])\n",
    "    \n",
    "    print(\"Very similar document to \"+ Shakespeare_file_name[j]+\" by TF-IDF is \"+Shakespeare_file_name[most_similar_document]+\" with the score \", highest_score)\n",
    "    print()"
   ]
  },
  {
   "cell_type": "code",
   "execution_count": 13,
   "metadata": {},
   "outputs": [
    {
     "name": "stdout",
     "output_type": "stream",
     "text": [
      "Very similar document to Coriolanus.txt by TF-IDF is HenryV.txt with the score  0.7451584674974362\n",
      "\n",
      "Very similar document to HenryV.txt by TF-IDF is Othello.txt with the score  0.801686387273153\n",
      "\n",
      "Very similar document to King_Lear.txt by TF-IDF is HenryV.txt with the score  0.7799949163411519\n",
      "\n",
      "Very similar document to Othello.txt by TF-IDF is HenryV.txt with the score  0.8016863872731527\n",
      "\n",
      "Very similar document to Tempest.txt by TF-IDF is Othello.txt with the score  0.7460030234385655\n",
      "\n"
     ]
    }
   ],
   "source": [
    "for i in range(5):\n",
    "    all_docs = []\n",
    "    for j in range(5):\n",
    "        if(i!=j):\n",
    "            all_docs.append(documents_Shakespeare[j])    \n",
    "    tfidf_similarity(documents_Shakespeare[i],all_docs,i)"
   ]
  },
  {
   "cell_type": "code",
   "execution_count": 14,
   "metadata": {},
   "outputs": [],
   "source": [
    "from sentence_transformers import SentenceTransformer\n",
    "model = SentenceTransformer('bert-base-nli-mean-tokens')"
   ]
  },
  {
   "cell_type": "code",
   "execution_count": 19,
   "metadata": {},
   "outputs": [],
   "source": [
    "def bert_similar(to_compare_doc, all_docs,j):\n",
    "    vectorizer = TfidfVectorizer()\n",
    "\n",
    "    #to_compare document\n",
    "    sentences = sent_tokenize(to_compare_doc)\n",
    "    to_compare_embeddings_sentences = model.encode(sentences)\n",
    "    to_compare_embeddings = np.mean(np.array(to_compare_embeddings_sentences), axis=0)\n",
    "    \n",
    "    vectors = []\n",
    "    for i, doc in enumerate(all_docs):\n",
    "\n",
    "        sentences = sent_tokenize(doc)\n",
    "        embeddings_sentences = model.encode(sentences)\n",
    "        embeddings = np.mean(np.array(embeddings_sentences), axis=0)\n",
    "\n",
    "        vectors.append(embeddings)\n",
    "\n",
    "    cosine_similarities = cosine_similarity([to_compare_embeddings], vectors).flatten()\n",
    "    print(cosine_similarities)\n",
    "\n",
    "    highest_score = 0\n",
    "    highest_score_index = 0\n",
    "    for i, score in enumerate(cosine_similarities):\n",
    "        if highest_score < score:\n",
    "            highest_score = score\n",
    "            highest_score_index = i\n",
    "\n",
    "\n",
    "    most_similar_document = documents_Shakespeare.index(all_docs[highest_score_index])\n",
    "    \n",
    "    print(\"Very similar document to \"+ Shakespeare_file_name[j]+\" by bert is \"+Shakespeare_file_name[most_similar_document]+\" with the score \", highest_score)\n"
   ]
  },
  {
   "cell_type": "code",
   "execution_count": 20,
   "metadata": {},
   "outputs": [
    {
     "name": "stdout",
     "output_type": "stream",
     "text": [
      "[0.95681614 0.9730467  0.9779606  0.9694467 ]\n",
      "Very similar document to Coriolanus.txt by bert is Othello.txt with the score  0.9779606\n",
      "[0.9568161  0.9651735  0.9625256  0.93385017]\n",
      "Very similar document to HenryV.txt by bert is King_Lear.txt with the score  0.9651735\n",
      "[0.97304666 0.9651735  0.9752283  0.97447664]\n",
      "Very similar document to King_Lear.txt by bert is Othello.txt with the score  0.9752283\n",
      "[0.9779606  0.9625256  0.97522825 0.9748869 ]\n",
      "Very similar document to Othello.txt by bert is Coriolanus.txt with the score  0.9779606\n",
      "[0.9694467 0.9338502 0.9744766 0.9748869]\n",
      "Very similar document to Tempest.txt by bert is Othello.txt with the score  0.9748869\n"
     ]
    }
   ],
   "source": [
    "for i in range(5):\n",
    "    all_docs = []\n",
    "    for j in range(5):\n",
    "        if(i!=j):\n",
    "            all_docs.append(documents_Shakespeare[j])    \n",
    "    bert_similar(documents_Shakespeare[i],all_docs,i)"
   ]
  },
  {
   "cell_type": "markdown",
   "metadata": {},
   "source": [
    "Recommended content: \n",
    "\n",
    "who viewed Coriolanus should be recommended- Othello\n",
    "\n",
    "who viewed HenryV should be recommended- King_Lear\n",
    "\n",
    "who viewed King_Lear should be recommended- Othello, Coriolanus\n",
    "\n",
    "who viewed Othello should be recommended- Coriolanus\n",
    "\n",
    "who viewed Tempest should be recommended- Othello, Coriolanus"
   ]
  }
 ],
 "metadata": {
  "kernelspec": {
   "display_name": "Python 3",
   "language": "python",
   "name": "python3"
  },
  "language_info": {
   "codemirror_mode": {
    "name": "ipython",
    "version": 3
   },
   "file_extension": ".py",
   "mimetype": "text/x-python",
   "name": "python",
   "nbconvert_exporter": "python",
   "pygments_lexer": "ipython3",
   "version": "3.8.5"
  }
 },
 "nbformat": 4,
 "nbformat_minor": 4
}
